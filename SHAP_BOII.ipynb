{
 "cells": [
  {
   "cell_type": "code",
   "execution_count": 1,
   "id": "automated-intro",
   "metadata": {},
   "outputs": [
    {
     "name": "stdout",
     "output_type": "stream",
     "text": [
      "__file__ = /home/michaelpesce/Documents/m3inference/m3inference/consts.py\n"
     ]
    }
   ],
   "source": [
    "from m3inference.ModelWrapper import ModelWrapper\n",
    "import pandas as pd\n",
    "import numpy as np\n",
    "from sklearn.model_selection import train_test_split\n",
    "import lime.lime_tabular\n",
    "import shap"
   ]
  },
  {
   "cell_type": "code",
   "execution_count": 2,
   "id": "convertible-affair",
   "metadata": {},
   "outputs": [
    {
     "name": "stderr",
     "output_type": "stream",
     "text": [
      "11/02/2021 19:59:39 - INFO - m3inference.ModelWrapper -   Running on cuda.\n",
      "11/02/2021 19:59:39 - INFO - m3inference.ModelWrapper -   Model path: /home/michaelpesce/m3/models/full_model.mdl.\n"
     ]
    }
   ],
   "source": [
    "# initialize gender prediction model\n",
    "gender_model = ModelWrapper(use_full_model=True, label=\"gender\")"
   ]
  },
  {
   "cell_type": "code",
   "execution_count": 3,
   "id": "assured-orientation",
   "metadata": {},
   "outputs": [],
   "source": [
    "# gender_model.infer('./TextModel_Groundtruths/gender_ground_truth2.jsonl')"
   ]
  },
  {
   "cell_type": "code",
   "execution_count": 4,
   "id": "accredited-advancement",
   "metadata": {},
   "outputs": [],
   "source": [
    "datapath = './TextModel_Groundtruths/gender_ground_truth2.jsonl'"
   ]
  },
  {
   "cell_type": "code",
   "execution_count": 5,
   "id": "ranking-trial",
   "metadata": {},
   "outputs": [],
   "source": [
    "df = pd.read_json(datapath,lines=True)\n"
   ]
  },
  {
   "cell_type": "code",
   "execution_count": 6,
   "id": "median-karma",
   "metadata": {},
   "outputs": [],
   "source": [
    "# df.drop('img_path', inplace=True, axis=1)"
   ]
  },
  {
   "cell_type": "code",
   "execution_count": 7,
   "id": "architectural-enterprise",
   "metadata": {},
   "outputs": [],
   "source": [
    "feature_names = ['id','name','screen_name','description','lang','img_path']\n",
    "features = df[feature_names]\n",
    "label = df[['label']]\n",
    "classes=['male','female']"
   ]
  },
  {
   "cell_type": "code",
   "execution_count": 8,
   "id": "tested-tractor",
   "metadata": {},
   "outputs": [],
   "source": [
    "X_train, X_test, y_train, y_test = train_test_split(features, label, test_size=0.25, random_state=42)\n",
    "background = X_train[:10]"
   ]
  },
  {
   "cell_type": "code",
   "execution_count": 9,
   "id": "norman-coalition",
   "metadata": {},
   "outputs": [
    {
     "name": "stderr",
     "output_type": "stream",
     "text": [
      "11/02/2021 19:59:51 - INFO - m3inference.dataset -   10 data entries loaded.\n",
      "Predicting...: 100%|██████████| 1/1 [00:00<00:00,  3.13it/s]\n"
     ]
    }
   ],
   "source": [
    "# e = shap.DeepExplainer(gender_model, X_train)\n",
    "explainer = shap.KernelExplainer(gender_model.infer, background)"
   ]
  },
  {
   "cell_type": "code",
   "execution_count": 12,
   "id": "considerable-roulette",
   "metadata": {},
   "outputs": [
    {
     "name": "stderr",
     "output_type": "stream",
     "text": [
      "11/02/2021 19:54:15 - INFO - m3inference.dataset -   1 data entries loaded.\n",
      "Predicting...: 100%|██████████| 1/1 [00:00<00:00,  6.66it/s]\n",
      "11/02/2021 19:54:15 - INFO - shap -   num_full_subsets = 3\n",
      "11/02/2021 19:54:15 - INFO - m3inference.dataset -   620 data entries loaded.\n",
      "Predicting...: 100%|██████████| 39/39 [00:03<00:00, 12.64it/s]\n",
      "11/02/2021 19:54:18 - INFO - shap -   phi = [ 3.27825547e-09  2.49293992e-02 -2.75335342e-03  5.80137839e-03\n",
      " -1.32053336e-03 -2.87771642e-03]\n"
     ]
    }
   ],
   "source": [
    "shap_values = explainer.shap_values(X_test.iloc[0,:])"
   ]
  },
  {
   "cell_type": "code",
   "execution_count": 21,
   "id": "champion-banner",
   "metadata": {},
   "outputs": [
    {
     "data": {
      "text/html": [
       "\n",
       "<div id='iEFIJCF8Z7R7PN0R25WFU'>\n",
       "<div style='color: #900; text-align: center;'>\n",
       "  <b>Visualization omitted, Javascript library not loaded!</b><br>\n",
       "  Have you run `initjs()` in this notebook? If this notebook was from another\n",
       "  user you must also trust this notebook (File -> Trust notebook). If you are viewing\n",
       "  this notebook on github the Javascript has been stripped for security. If you are using\n",
       "  JupyterLab this error is because a JupyterLab extension has not yet been written.\n",
       "</div></div>\n",
       " <script>\n",
       "   if (window.SHAP) SHAP.ReactDom.render(\n",
       "    SHAP.React.createElement(SHAP.AdditiveForceVisualizer, {\"outNames\": [\"f(x)\"], \"baseValue\": 0.9708429336547852, \"outValue\": 0.9946221113204956, \"link\": \"identity\", \"featureNames\": [\"id\", \"name\", \"screen_name\", \"description\", \"lang\", \"img_path\"], \"features\": {\"0\": {\"effect\": 3.278255470903768e-09, \"value\": 24744983.0}, \"1\": {\"effect\": 0.024929399192333192, \"value\": \"AdamPearson\"}, \"2\": {\"effect\": -0.0027533534169197488, \"value\": \"Adam_Pearson\"}, \"3\": {\"effect\": 0.005801378389199523, \"value\": \"Journalist / Presenter / Motivational Speaker / Writer / Actor / Advocate. Bookings andrew@andrewroachtalent.com Beautiful, Broken, Brilliance. (). \"}, \"4\": {\"effect\": -0.0013205333550770984, \"value\": \"en\"}, \"5\": {\"effect\": -0.0028777164220809767, \"value\": \"./pic_resized/Adam_Pearson.jpeg\"}}, \"plot_cmap\": \"RdBu\", \"labelMargin\": 20}),\n",
       "    document.getElementById('iEFIJCF8Z7R7PN0R25WFU')\n",
       "  );\n",
       "</script>"
      ],
      "text/plain": [
       "<shap.plots._force.AdditiveForceVisualizer at 0x7fb78846d650>"
      ]
     },
     "execution_count": 21,
     "metadata": {},
     "output_type": "execute_result"
    }
   ],
   "source": [
    "shap.force_plot(explainer.expected_value, shap_values, X_test.iloc[20,:])"
   ]
  },
  {
   "cell_type": "code",
   "execution_count": 15,
   "id": "apparent-collectible",
   "metadata": {},
   "outputs": [
    {
     "name": "stderr",
     "output_type": "stream",
     "text": [
      "  0%|          | 0/5 [00:00<?, ?it/s]11/02/2021 20:03:28 - INFO - m3inference.dataset -   1 data entries loaded.\n",
      "\n",
      "Predicting...:   0%|          | 0/1 [00:00<?, ?it/s]\u001b[A\n",
      "Predicting...: 100%|██████████| 1/1 [00:00<00:00,  6.04it/s]\u001b[A\n",
      "11/02/2021 20:03:28 - INFO - shap -   num_full_subsets = 3\n",
      "11/02/2021 20:03:28 - INFO - m3inference.dataset -   620 data entries loaded.\n",
      "\n",
      "Predicting...:   0%|          | 0/39 [00:00<?, ?it/s]\u001b[A\n",
      "Predicting...:   3%|▎         | 1/39 [00:00<00:08,  4.65it/s]\u001b[A\n",
      "Predicting...:   8%|▊         | 3/39 [00:00<00:04,  8.48it/s]\u001b[A\n",
      "Predicting...:  13%|█▎        | 5/39 [00:00<00:03, 10.25it/s]\u001b[A\n",
      "Predicting...:  18%|█▊        | 7/39 [00:00<00:02, 11.23it/s]\u001b[A\n",
      "Predicting...:  23%|██▎       | 9/39 [00:00<00:02, 11.64it/s]\u001b[A\n",
      "Predicting...:  28%|██▊       | 11/39 [00:01<00:02, 11.98it/s]\u001b[A\n",
      "Predicting...:  33%|███▎      | 13/39 [00:01<00:02, 12.13it/s]\u001b[A\n",
      "Predicting...:  38%|███▊      | 15/39 [00:01<00:01, 12.30it/s]\u001b[A\n",
      "Predicting...:  44%|████▎     | 17/39 [00:01<00:01, 12.34it/s]\u001b[A\n",
      "Predicting...:  49%|████▊     | 19/39 [00:01<00:01, 12.30it/s]\u001b[A\n",
      "Predicting...:  54%|█████▍    | 21/39 [00:01<00:01, 12.23it/s]\u001b[A\n",
      "Predicting...:  59%|█████▉    | 23/39 [00:01<00:01, 12.30it/s]\u001b[A\n",
      "Predicting...:  64%|██████▍   | 25/39 [00:02<00:01, 12.38it/s]\u001b[A\n",
      "Predicting...:  69%|██████▉   | 27/39 [00:02<00:00, 12.58it/s]\u001b[A\n",
      "Predicting...:  74%|███████▍  | 29/39 [00:02<00:00, 12.47it/s]\u001b[A\n",
      "Predicting...:  79%|███████▉  | 31/39 [00:02<00:00, 12.66it/s]\u001b[A\n",
      "Predicting...:  85%|████████▍ | 33/39 [00:02<00:00, 12.78it/s]\u001b[A\n",
      "Predicting...:  90%|████████▉ | 35/39 [00:02<00:00, 12.89it/s]\u001b[A\n",
      "Predicting...:  95%|█████████▍| 37/39 [00:03<00:00, 12.98it/s]\u001b[A\n",
      "Predicting...: 100%|██████████| 39/39 [00:03<00:00, 12.04it/s]\u001b[A\n",
      "11/02/2021 20:03:32 - INFO - shap -   phi = [ 3.27825547e-09  2.49293992e-02 -2.75335342e-03  5.80137839e-03\n",
      " -1.32053336e-03 -2.87771642e-03]\n",
      " 20%|██        | 1/5 [00:03<00:13,  3.43s/it]11/02/2021 20:03:32 - INFO - m3inference.dataset -   1 data entries loaded.\n",
      "\n",
      "Predicting...:   0%|          | 0/1 [00:00<?, ?it/s]\u001b[A\n",
      "Predicting...: 100%|██████████| 1/1 [00:00<00:00,  6.29it/s]\u001b[A\n",
      "11/02/2021 20:03:32 - INFO - shap -   num_full_subsets = 3\n",
      "11/02/2021 20:03:32 - INFO - m3inference.dataset -   620 data entries loaded.\n",
      "\n",
      "Predicting...:   0%|          | 0/39 [00:00<?, ?it/s]\u001b[A\n",
      "Predicting...:   3%|▎         | 1/39 [00:00<00:07,  4.81it/s]\u001b[A\n",
      "Predicting...:   8%|▊         | 3/39 [00:00<00:04,  8.94it/s]\u001b[A\n",
      "Predicting...:  13%|█▎        | 5/39 [00:00<00:03, 10.44it/s]\u001b[A\n",
      "Predicting...:  18%|█▊        | 7/39 [00:00<00:02, 11.16it/s]\u001b[A\n",
      "Predicting...:  23%|██▎       | 9/39 [00:00<00:02, 11.84it/s]\u001b[A\n",
      "Predicting...:  28%|██▊       | 11/39 [00:01<00:02, 12.04it/s]\u001b[A\n",
      "Predicting...:  33%|███▎      | 13/39 [00:01<00:02, 12.10it/s]\u001b[A\n",
      "Predicting...:  38%|███▊      | 15/39 [00:01<00:01, 12.14it/s]\u001b[A\n",
      "Predicting...:  44%|████▎     | 17/39 [00:01<00:01, 12.38it/s]\u001b[A\n",
      "Predicting...:  49%|████▊     | 19/39 [00:01<00:01, 12.45it/s]\u001b[A\n",
      "Predicting...:  54%|█████▍    | 21/39 [00:01<00:01, 12.61it/s]\u001b[A\n",
      "Predicting...:  59%|█████▉    | 23/39 [00:01<00:01, 12.44it/s]\u001b[A\n",
      "Predicting...:  64%|██████▍   | 25/39 [00:02<00:01, 12.47it/s]\u001b[A\n",
      "Predicting...:  69%|██████▉   | 27/39 [00:02<00:00, 12.37it/s]\u001b[A\n",
      "Predicting...:  74%|███████▍  | 29/39 [00:02<00:00, 12.29it/s]\u001b[A\n",
      "Predicting...:  79%|███████▉  | 31/39 [00:02<00:00, 12.43it/s]\u001b[A\n",
      "Predicting...:  85%|████████▍ | 33/39 [00:02<00:00, 12.64it/s]\u001b[A\n",
      "Predicting...:  90%|████████▉ | 35/39 [00:02<00:00, 12.78it/s]\u001b[A\n",
      "Predicting...:  95%|█████████▍| 37/39 [00:03<00:00, 12.89it/s]\u001b[A\n",
      "Predicting...: 100%|██████████| 39/39 [00:03<00:00, 12.02it/s]\u001b[A\n",
      "11/02/2021 20:03:35 - INFO - shap -   phi = [-9.43740215e-09 -1.24544266e-01  3.54129503e-03 -5.84941500e-02\n",
      " -3.42466752e-03 -2.81635576e-02]\n",
      " 40%|████      | 2/5 [00:06<00:10,  3.43s/it]11/02/2021 20:03:35 - INFO - m3inference.dataset -   1 data entries loaded.\n",
      "\n",
      "Predicting...:   0%|          | 0/1 [00:00<?, ?it/s]\u001b[A\n",
      "Predicting...: 100%|██████████| 1/1 [00:00<00:00,  6.29it/s]\u001b[A\n",
      "11/02/2021 20:03:35 - INFO - shap -   num_full_subsets = 3\n",
      "11/02/2021 20:03:35 - INFO - m3inference.dataset -   620 data entries loaded.\n",
      "\n",
      "Predicting...:   0%|          | 0/39 [00:00<?, ?it/s]\u001b[A\n",
      "Predicting...:   3%|▎         | 1/39 [00:00<00:07,  4.79it/s]\u001b[A\n",
      "Predicting...:   8%|▊         | 3/39 [00:00<00:04,  8.63it/s]\u001b[A\n",
      "Predicting...:  13%|█▎        | 5/39 [00:00<00:03, 10.07it/s]\u001b[A\n",
      "Predicting...:  18%|█▊        | 7/39 [00:00<00:02, 10.73it/s]\u001b[A\n",
      "Predicting...:  23%|██▎       | 9/39 [00:00<00:02, 11.47it/s]\u001b[A\n",
      "Predicting...:  28%|██▊       | 11/39 [00:01<00:02, 11.91it/s]\u001b[A\n",
      "Predicting...:  33%|███▎      | 13/39 [00:01<00:02, 12.24it/s]\u001b[A\n",
      "Predicting...:  38%|███▊      | 15/39 [00:01<00:01, 12.35it/s]\u001b[A\n",
      "Predicting...:  44%|████▎     | 17/39 [00:01<00:01, 12.32it/s]\u001b[A\n",
      "Predicting...:  49%|████▊     | 19/39 [00:01<00:01, 12.43it/s]\u001b[A\n",
      "Predicting...:  54%|█████▍    | 21/39 [00:01<00:01, 12.31it/s]\u001b[A\n",
      "Predicting...:  59%|█████▉    | 23/39 [00:01<00:01, 12.22it/s]\u001b[A\n",
      "Predicting...:  64%|██████▍   | 25/39 [00:02<00:01, 12.40it/s]\u001b[A\n",
      "Predicting...:  69%|██████▉   | 27/39 [00:02<00:00, 12.57it/s]\u001b[A\n",
      "Predicting...:  74%|███████▍  | 29/39 [00:02<00:00, 12.76it/s]\u001b[A\n",
      "Predicting...:  79%|███████▉  | 31/39 [00:02<00:00, 12.88it/s]\u001b[A\n",
      "Predicting...:  85%|████████▍ | 33/39 [00:02<00:00, 12.80it/s]\u001b[A\n",
      "Predicting...:  90%|████████▉ | 35/39 [00:02<00:00, 13.05it/s]\u001b[A\n",
      "Predicting...:  95%|█████████▍| 37/39 [00:03<00:00, 13.02it/s]\u001b[A\n",
      "Predicting...: 100%|██████████| 39/39 [00:03<00:00, 12.04it/s]\u001b[A\n",
      "11/02/2021 20:03:39 - INFO - shap -   phi = [-2.38418580e-09 -5.30259838e-03  3.23016714e-02  8.63986115e-04\n",
      "  6.02124641e-03 -6.04086359e-03]\n",
      " 60%|██████    | 3/5 [00:10<00:06,  3.43s/it]11/02/2021 20:03:39 - INFO - m3inference.dataset -   1 data entries loaded.\n",
      "\n",
      "Predicting...:   0%|          | 0/1 [00:00<?, ?it/s]\u001b[A\n",
      "Predicting...: 100%|██████████| 1/1 [00:00<00:00,  6.80it/s]\u001b[A\n",
      "11/02/2021 20:03:39 - INFO - shap -   num_full_subsets = 3\n",
      "11/02/2021 20:03:39 - INFO - m3inference.dataset -   620 data entries loaded.\n",
      "\n",
      "Predicting...:   0%|          | 0/39 [00:00<?, ?it/s]\u001b[A\n",
      "Predicting...:   3%|▎         | 1/39 [00:00<00:07,  4.95it/s]\u001b[A\n",
      "Predicting...:   8%|▊         | 3/39 [00:00<00:03,  9.21it/s]\u001b[A\n",
      "Predicting...:  13%|█▎        | 5/39 [00:00<00:03, 10.93it/s]\u001b[A\n",
      "Predicting...:  18%|█▊        | 7/39 [00:00<00:02, 11.86it/s]\u001b[A\n",
      "Predicting...:  23%|██▎       | 9/39 [00:00<00:02, 12.37it/s]\u001b[A\n",
      "Predicting...:  28%|██▊       | 11/39 [00:00<00:02, 12.64it/s]\u001b[A\n",
      "Predicting...:  33%|███▎      | 13/39 [00:01<00:02, 12.82it/s]\u001b[A\n",
      "Predicting...:  38%|███▊      | 15/39 [00:01<00:01, 13.01it/s]\u001b[A\n",
      "Predicting...:  44%|████▎     | 17/39 [00:01<00:01, 13.06it/s]\u001b[A\n",
      "Predicting...:  49%|████▊     | 19/39 [00:01<00:01, 13.11it/s]\u001b[A\n",
      "Predicting...:  54%|█████▍    | 21/39 [00:01<00:01, 12.98it/s]\u001b[A\n",
      "Predicting...:  59%|█████▉    | 23/39 [00:01<00:01, 12.80it/s]\u001b[A\n",
      "Predicting...:  64%|██████▍   | 25/39 [00:02<00:01, 12.71it/s]\u001b[A\n",
      "Predicting...:  69%|██████▉   | 27/39 [00:02<00:00, 12.66it/s]\u001b[A\n",
      "Predicting...:  74%|███████▍  | 29/39 [00:02<00:00, 12.70it/s]\u001b[A\n",
      "Predicting...:  79%|███████▉  | 31/39 [00:02<00:00, 12.77it/s]\u001b[A\n",
      "Predicting...:  85%|████████▍ | 33/39 [00:02<00:00, 12.84it/s]\u001b[A\n",
      "Predicting...:  90%|████████▉ | 35/39 [00:02<00:00, 12.93it/s]\u001b[A\n",
      "Predicting...:  95%|█████████▍| 37/39 [00:02<00:00, 13.00it/s]\u001b[A\n",
      "Predicting...: 100%|██████████| 39/39 [00:03<00:00, 12.45it/s]\u001b[A\n",
      "11/02/2021 20:03:42 - INFO - shap -   phi = [ 2.68220897e-09  3.43392778e-02  1.07946462e-02  8.97285293e-03\n",
      " -1.88778857e-03 -3.02441653e-02]\n",
      " 80%|████████  | 4/5 [00:13<00:03,  3.38s/it]11/02/2021 20:03:42 - INFO - m3inference.dataset -   1 data entries loaded.\n",
      "\n",
      "Predicting...:   0%|          | 0/1 [00:00<?, ?it/s]\u001b[A\n",
      "Predicting...: 100%|██████████| 1/1 [00:00<00:00,  6.26it/s]\u001b[A\n",
      "11/02/2021 20:03:42 - INFO - shap -   num_full_subsets = 3\n",
      "11/02/2021 20:03:42 - INFO - m3inference.dataset -   620 data entries loaded.\n",
      "\n",
      "Predicting...:   0%|          | 0/39 [00:00<?, ?it/s]\u001b[A\n",
      "Predicting...:   3%|▎         | 1/39 [00:00<00:07,  4.91it/s]\u001b[A\n",
      "Predicting...:   8%|▊         | 3/39 [00:00<00:03,  9.09it/s]\u001b[A\n"
     ]
    },
    {
     "name": "stderr",
     "output_type": "stream",
     "text": [
      "Predicting...:  13%|█▎        | 5/39 [00:00<00:03, 10.65it/s]\u001b[A\n",
      "Predicting...:  18%|█▊        | 7/39 [00:00<00:02, 11.40it/s]\u001b[A\n",
      "Predicting...:  23%|██▎       | 9/39 [00:00<00:02, 11.91it/s]\u001b[A\n",
      "Predicting...:  28%|██▊       | 11/39 [00:00<00:02, 12.19it/s]\u001b[A\n",
      "Predicting...:  33%|███▎      | 13/39 [00:01<00:02, 12.41it/s]\u001b[A\n",
      "Predicting...:  38%|███▊      | 15/39 [00:01<00:01, 12.50it/s]\u001b[A\n",
      "Predicting...:  44%|████▎     | 17/39 [00:01<00:01, 12.53it/s]\u001b[A\n",
      "Predicting...:  49%|████▊     | 19/39 [00:01<00:01, 12.79it/s]\u001b[A\n",
      "Predicting...:  54%|█████▍    | 21/39 [00:01<00:01, 12.95it/s]\u001b[A\n",
      "Predicting...:  59%|█████▉    | 23/39 [00:01<00:01, 13.03it/s]\u001b[A\n",
      "Predicting...:  64%|██████▍   | 25/39 [00:02<00:01, 12.88it/s]\u001b[A\n",
      "Predicting...:  69%|██████▉   | 27/39 [00:02<00:00, 12.87it/s]\u001b[A\n",
      "Predicting...:  74%|███████▍  | 29/39 [00:02<00:00, 12.76it/s]\u001b[A\n",
      "Predicting...:  79%|███████▉  | 31/39 [00:02<00:00, 12.83it/s]\u001b[A\n",
      "Predicting...:  85%|████████▍ | 33/39 [00:02<00:00, 12.86it/s]\u001b[A\n",
      "Predicting...:  90%|████████▉ | 35/39 [00:02<00:00, 12.89it/s]\u001b[A\n",
      "Predicting...:  95%|█████████▍| 37/39 [00:02<00:00, 13.07it/s]\u001b[A\n",
      "Predicting...: 100%|██████████| 39/39 [00:03<00:00, 12.34it/s]\u001b[A\n",
      "11/02/2021 20:03:45 - INFO - shap -   phi = [ 1.51991844e-08 -3.68724629e-02 -1.58104524e-02 -2.05709354e-02\n",
      " -5.09625077e-03  1.95281039e-03]\n",
      "100%|██████████| 5/5 [00:16<00:00,  3.39s/it]\n"
     ]
    }
   ],
   "source": [
    "shap_values = explainer.shap_values(X_test[:5])"
   ]
  },
  {
   "cell_type": "code",
   "execution_count": 19,
   "id": "ahead-checklist",
   "metadata": {},
   "outputs": [
    {
     "data": {
      "text/html": [
       "\n",
       "<div id='iA5VPUEMOPJ82FFU65GT9'>\n",
       "<div style='color: #900; text-align: center;'>\n",
       "  <b>Visualization omitted, Javascript library not loaded!</b><br>\n",
       "  Have you run `initjs()` in this notebook? If this notebook was from another\n",
       "  user you must also trust this notebook (File -> Trust notebook). If you are viewing\n",
       "  this notebook on github the Javascript has been stripped for security. If you are using\n",
       "  JupyterLab this error is because a JupyterLab extension has not yet been written.\n",
       "</div></div>\n",
       " <script>\n",
       "   if (window.SHAP) SHAP.ReactDom.render(\n",
       "    SHAP.React.createElement(SHAP.AdditiveForceArrayVisualizer, {\"outNames\": [\"f(x)\"], \"baseValue\": 0.9708429336547852, \"link\": \"identity\", \"featureNames\": [\"id\", \"name\", \"screen_name\", \"description\", \"lang\", \"img_path\"], \"explanations\": [{\"outValue\": 0.9946221113204956, \"simIndex\": 4.0, \"features\": {\"0\": {\"effect\": 3.278255470903768e-09, \"value\": 3975756309}, \"1\": {\"effect\": 0.024929399192333192, \"value\": \"\\ud835\\udd44\\ud835\\udd52\\ud835\\udd65\\ud835\\udd56\\ud835\\udd66\\ud835\\udd64\\ud835\\udd6b\\u26a1\\ud83c\\udff3\\ufe0f\\u200d\\ud83c\\udf08\"}, \"2\": {\"effect\": -0.0027533534169197488, \"value\": \"OskWars\"}, \"3\": {\"effect\": 0.005801378389199523, \"value\": \"politics \\ud83c\\udfdb\\ufe0f memes \\ud83d\\uddbc hot boys \\ud83d\\udc68 cats \\ud83d\\udc08 eurovision \\ud83c\\udfa4 architecture \\ud83c\\udfd9\\ufe0f public transport \\ud83d\\ude9d traveling \\ud83c\\udf0d LGBT \\ud83c\\udff3\\ufe0f\\u200d\\ud83c\\udf08 /his \"}, \"4\": {\"effect\": -0.0013205333550770984, \"value\": \"en\"}, \"5\": {\"effect\": -0.0028777164220809767, \"value\": \"./pic_resized/OskWars.jpeg\"}}}, {\"outValue\": 0.7597575783729553, \"simIndex\": 1.0, \"features\": {\"0\": {\"effect\": -9.437402151424301e-09, \"value\": 791815272491548672}, \"1\": {\"effect\": -0.12454426566759742, \"value\": \"\\u26d3Greyson\\u26d3\"}, \"2\": {\"effect\": 0.0035412950317064706, \"value\": \"greyysxn\"}, \"3\": {\"effect\": -0.058494150042533895, \"value\": \"Greyson  17 I like Palaye, Waterparks, MCR, P!ATD, SIO, Yungblud, Badflower, NCT, TXT, ATEEZ, ONEUS, Straykids, Monsta XSaw TXT 190512 \\ud83d\\udc99\\ud83d\\udc9b \"}, \"4\": {\"effect\": -0.0034246675173441876, \"value\": \"en\"}, \"5\": {\"effect\": -0.028163557648658744, \"value\": \"./pic_resized/greyysxn.jpeg\"}}}, {\"outValue\": 0.9986863732337952, \"simIndex\": 3.0, \"features\": {\"0\": {\"effect\": -2.384185800174965e-09, \"value\": 19210964}, \"1\": {\"effect\": -0.005302598377068864, \"value\": \"\\u2728oops,innit?\\u2728\"}, \"2\": {\"effect\": 0.03230167140563324, \"value\": \"sarah3000\"}, \"3\": {\"effect\": 0.0008639861146609203, \"value\": \"Uncultured white person. I go to way too many concerts. Victoria concordia crescit. Echte liebe. . \"}, \"4\": {\"effect\": 0.006021246413389844, \"value\": \"en\"}, \"5\": {\"effect\": -0.006040863593419418, \"value\": \"./pic_resized/sarah3000.jpeg\"}}}, {\"outValue\": 0.992817759513855, \"simIndex\": 5.0, \"features\": {\"0\": {\"effect\": 2.6822089722877696e-09, \"value\": 14918508}, \"1\": {\"effect\": 0.03433927784363426, \"value\": \"KarthikKrishnaswamy\"}, \"2\": {\"effect\": 0.010794646243254366, \"value\": \"the_kk\"}, \"3\": {\"effect\": 0.008972852925459539, \"value\": \". Cricket writer by day, photographer by night. Except when I work night shifts. Which is often. \"}, \"4\": {\"effect\": -0.0018877885739008726, \"value\": \"en\"}, \"5\": {\"effect\": -0.030244165261586527, \"value\": \"./pic_resized/the_kk.jpeg\"}}}, {\"outValue\": 0.8944456577301025, \"simIndex\": 2.0, \"features\": {\"0\": {\"effect\": 1.5199184407593824e-08, \"value\": 348273082}, \"1\": {\"effect\": -0.036872462928295116, \"value\": \"X2JeanGrey\"}, \"2\": {\"effect\": -0.015810452401638087, \"value\": \"peachs_umbrella\"}, \"3\": {\"effect\": -0.020570935408274336, \"value\": \"Going through life one day at a time, but at least I\\u2019m in Chromatica, . Photographer/ Twitch Streamer/ Loser #BLM #BTLM \"}, \"4\": {\"effect\": -0.0050962507724762185, \"value\": \"en\"}, \"5\": {\"effect\": 0.0019528103868166335, \"value\": \"./pic_resized/peachs_umbrella.jpeg\"}}}], \"plot_cmap\": \"RdBu\", \"ordering_keys\": null, \"ordering_keys_time_format\": null}),\n",
       "    document.getElementById('iA5VPUEMOPJ82FFU65GT9')\n",
       "  );\n",
       "</script>"
      ],
      "text/plain": [
       "<shap.plots._force.AdditiveForceArrayVisualizer at 0x7f15fc9de710>"
      ]
     },
     "execution_count": 19,
     "metadata": {},
     "output_type": "execute_result"
    }
   ],
   "source": [
    "shap.force_plot(explainer.expected_value, shap_values, X_test)"
   ]
  },
  {
   "cell_type": "code",
   "execution_count": 20,
   "id": "broken-syracuse",
   "metadata": {},
   "outputs": [],
   "source": [
    "# X_test"
   ]
  }
 ],
 "metadata": {
  "kernelspec": {
   "display_name": "Python 3.7.10 64-bit ('m3env': conda)",
   "language": "python",
   "name": "python3710jvsc74a57bd022e2c6b17d8462cf7c20d14698b17a7f2121333d77e559276731fd0fe56232e9"
  },
  "language_info": {
   "codemirror_mode": {
    "name": "ipython",
    "version": 3
   },
   "file_extension": ".py",
   "mimetype": "text/x-python",
   "name": "python",
   "nbconvert_exporter": "python",
   "pygments_lexer": "ipython3",
   "version": "3.7.10"
  }
 },
 "nbformat": 4,
 "nbformat_minor": 5
}
